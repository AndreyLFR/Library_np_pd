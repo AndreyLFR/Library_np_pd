{
  "nbformat": 4,
  "nbformat_minor": 0,
  "metadata": {
    "colab": {
      "provenance": [],
      "mount_file_id": "1IPcRCup3CTfA71juTkaE0eowLoL44byX",
      "authorship_tag": "ABX9TyP0kJHnbK5UDiIyVFOelZ+f",
      "include_colab_link": true
    },
    "kernelspec": {
      "name": "python3",
      "display_name": "Python 3"
    },
    "language_info": {
      "name": "python"
    }
  },
  "cells": [
    {
      "cell_type": "markdown",
      "metadata": {
        "id": "view-in-github",
        "colab_type": "text"
      },
      "source": [
        "<a href=\"https://colab.research.google.com/github/AndreyLFR/Library_np_pd/blob/master/Course_work.ipynb\" target=\"_parent\"><img src=\"https://colab.research.google.com/assets/colab-badge.svg\" alt=\"Open In Colab\"/></a>"
      ]
    },
    {
      "cell_type": "markdown",
      "source": [
        "Проект - прогнозирование дефолта корпоративного заемщика. Данные использованы из открытых источников (СПАРК). Событие дефолт - иск от кредитной организации.\n",
        "Данные собраны самостоятельно"
      ],
      "metadata": {
        "id": "lVGKEI6ZxklP"
      }
    },
    {
      "cell_type": "code",
      "source": [
        "import pandas as pd\n",
        "import numpy as np\n",
        "import matplotlib.pyplot as plt\n",
        "from string import ascii_letters\n",
        "from sklearn.model_selection import train_test_split\n",
        "\n",
        "from imblearn.under_sampling import RandomUnderSampler\n",
        "from imblearn.over_sampling import ADASYN\n",
        "from collections import Counter\n",
        "\n",
        "from sklearn.ensemble import RandomForestClassifier\n",
        "import joblib\n",
        "from sklearn.metrics import accuracy_score\n",
        "from sklearn.metrics import r2_score"
      ],
      "metadata": {
        "id": "ubmejgYS1t6i"
      },
      "execution_count": 130,
      "outputs": []
    },
    {
      "cell_type": "markdown",
      "source": [
        "1. Загрузка датасета"
      ],
      "metadata": {
        "id": "xImadT3LJ4ey"
      }
    },
    {
      "cell_type": "code",
      "source": [
        "df_target = pd.read_excel('/content/drive/MyDrive/Course_work/Targets.xlsx')\n",
        "df_target.drop_duplicates(subset=['ИНН'], inplace=True)\n",
        "\n",
        "df_spark = pd.read_excel('/content/drive/MyDrive/Course_work/ML_study_SPARK.xlsx')\n",
        "df_spark.drop_duplicates(subset=['Код налогоплательщика'], inplace=True)\n",
        "\n",
        "df = df_target.merge(df_spark, how='left', left_on='ИНН', right_on='Код налогоплательщика')"
      ],
      "metadata": {
        "id": "TkDJ3_Z9yHOv"
      },
      "execution_count": 131,
      "outputs": []
    },
    {
      "cell_type": "markdown",
      "source": [
        "2. Разобьем на датасет на тестовый и для обучения"
      ],
      "metadata": {
        "id": "js8mCtmQJ9p_"
      }
    },
    {
      "cell_type": "code",
      "source": [
        "y = df['Дефолт'].values\n",
        "X = df.drop('Дефолт', axis=1)\n",
        "\n",
        "X_train, X_test, y_train, y_test = train_test_split(X, y, test_size=0.3, random_state=42, shuffle=True)"
      ],
      "metadata": {
        "id": "BA499wQdKIDb"
      },
      "execution_count": 132,
      "outputs": []
    },
    {
      "cell_type": "markdown",
      "source": [
        "3. Создадим класс обработки датасета\n",
        "\n",
        "Переменными не влияющими на дефолт являются ИНН, Ответчик, Отчетность, Код налогоплательщика, Наименование, Регистрационный номер.\n",
        "\n",
        "Также в столбце Сумма незавершенных исков в роли ответчика, тыс. RUB отражены неверные данные, так как они не дату за год до дефолта, а на дату выгрузки данных.\n",
        "\n",
        "EBIT - важный показатель. Отражает маржинальность бизнес, способность обслуживать финансовый долг. Заменить его медианой будет некорректно. У половины значений с target 1 нет данных по EBIT. Следует дозапросить этот показатель. На текущий момент атрибут исключаю\n",
        "\n",
        "Вид деятельности. В зависимости от отрасли меняются финансовые показатели. В рамках примера применена разбивка на 5 групп отраслей\n",
        "\n",
        "ОС - основные средства. Значение не может быть меньше 0. Аналогичный подход как к ОС применю к остальным финансовым показателям кроме 'Капитал АППГ', 'Капитал'. Сначала уберу отрицательные значения, где с экономической точки зрения их не может быть\n",
        "\n",
        "На абсолютных финансовых показателях некорректно работать с выбросами. После расчета относительных показателей проведу работу с выбросами\n",
        "\n",
        "Регион регистрации влияет на дефолтность, но требует дополнительного погружения в социально-экономические аспекты регионов для их сегментации"
      ],
      "metadata": {
        "id": "Y72-nuC-KkvS"
      }
    },
    {
      "cell_type": "code",
      "source": [
        "class DataPipeline:\n",
        "\n",
        "    def __init__(self):\n",
        "      self.extra_variables = ['Ответчик', 'Отчетность', 'Отчетный год', 'Код налогоплательщика', 'Наименование',\n",
        "                   'Регистрационный номер', 'Сумма незавершенных исков в роли ответчика, тыс. RUB', 'ИНН']\n",
        "      self.columns_FP = ['ОС', 'ДФЛ АППГ', 'ДФЛ', 'ВНА', 'КФЛ АППГ', 'КФЛ', 'Активы', 'Капитал АППГ', 'Капитал', 'ДКиЗ', 'ККиЗ', 'Совокупный долг, АППГ',\n",
        "                    'Совокупный долг', 'Выручка, АППГ', 'Выручка', 'Проценты к уплате']\n",
        "      self.columns_Nan_Median = ['Обор КЗ АППГ', 'Обор КЗ', 'Обор запасы АППГ', 'Обор запасы', 'Обор ДЗ АППГ', 'Обор ДЗ']\n",
        "      self.col_only_positive = ['ДФЛ АППГ', 'ДФЛ', 'ВНА', 'КФЛ АППГ', 'КФЛ', 'Активы', 'ДКиЗ', 'ККиЗ', 'Совокупный долг, АППГ',\n",
        "                    'Совокупный долг', 'Выручка, АППГ', 'Выручка', 'Проценты к уплате', 'ОС']\n",
        "      self.columns_OP = ['Обор КЗ АППГ', 'Обор КЗ', 'Обор запасы АППГ', 'Обор запасы', 'Обор ДЗ АППГ', 'Обор ДЗ',\n",
        "                         'Коэффициент соотношения заемных и собственных средств,']\n",
        "      self.list_dop_cols = ['Динамика выручки', 'Долг к выручке', 'Долг к выручке к АППГ', 'Динамика долга', 'Капитал к долгу', 'Аналит капитал к долгу',\n",
        "             'Капитал к ВБ', 'Аналит капитал к ВБ', 'Динамика обор запасов АППГ', 'Динамика обор ДЗ АППГ', 'Динамика обор КЗ АППГ', 'ОС к ВБ', 'Динамика капитала', 'Динамика аналит капитала']\n",
        "      self.regions = ['Санкт-Петербург', 'Москва', 'Хакасия (Республика)', 'Кировская область', 'Пензенская область', 'Магаданская область', 'Республика Татарстан', 'Пермский край', 'Красноярский край', 'Московская область', 'Владимирская область', 'Нижегородская область', 'Курганская область', 'Сахалинская область', 'Карелия (Республика)', 'Бурятия (Республика)', 'Приморский край', 'Северная Осетия-Алания (Республика)', 'Краснодарский край', 'Ярославская область', 'Рязанская область', 'Волгоградская область', 'Башкортостан (Республика)', 'Ленинградская область', 'Свердловская область', 'Белгородская область', 'Ставропольский край', 'Тюменская область', 'Омская область', 'Тамбовская область', 'Челябинская область', 'Новосибирская область', 'Кабардино-Балкарская Республика', 'Томская область', 'Новгородская область', 'Дагестан (Республика)', 'Алтайский край', 'Иркутская область', 'Севастополь', 'Удмуртская Республика', 'Саратовская область', 'Саха (Республика) (Якутия)', 'Республика Крым', 'Курская область', 'Калужская область', 'Самарская область', 'Ростовская область', 'Оренбургская область', 'Тульская область', 'Липецкая область', 'Ивановская область', 'Смоленская область', 'Хабаровский край', 'Алтай (Республика)', 'Амурская область', 'Чувашская Республика-Чувашия', 'Чеченская Республика', 'Забайкальский край', 'Камчатский край', 'Ульяновская область', 'Калининградская область', 'Псковская область', 'Костромская область', 'Чукотский автономный округ', 'Воронежская область', 'Кемеровская область', 'Мордовия (Республика)', 'Марий Эл (Республика)', 'Архангельская область', 'Вологодская область', 'Тверская область', 'Астраханская область', 'Брянская область', 'Коми (Республика)', 'Еврейская автономная область', 'Мурманская область', 'Орловская область', 'Карачаево-Черкесская Республика', 'Калмыкия (Республика)', 'Адыгея (Республика) (Адыгея)', 'Тыва (Республика)', 'Ингушетия (Республика)', 'Байконур']\n",
        "\n",
        "\n",
        "    def fit(self, X_train, y_train):\n",
        "      clf = RandomForestClassifier(max_depth=9, max_features=8, n_estimators=250)\n",
        "      clf.fit(X_train, y_train)\n",
        "      joblib.dump(clf, \"/content/drive/MyDrive/Course_work/model.pkl\")\n",
        "      return clf\n",
        "\n",
        "    def predict(self, X_test):\n",
        "      clf = joblib.load(\"/content/drive/MyDrive/Course_work/model.pkl\")\n",
        "      return clf.predict(X_test)\n",
        "\n",
        "    def internal_func_owner(self, list_own):\n",
        "      try:\n",
        "        count = len(list_own)\n",
        "      except:\n",
        "        count = 0\n",
        "      return count\n",
        "\n",
        "    def internal_func_foreigner(self, owners):\n",
        "      if owners:\n",
        "        for owner in owners:\n",
        "          list_bool_char = list(map(lambda c: c in ascii_letters, owner))\n",
        "          if True in list_bool_char:\n",
        "            return 1\n",
        "            break\n",
        "        return 0\n",
        "\n",
        "    def internal_func_SSH(self, str_):\n",
        "      if '-' in str_:\n",
        "        result = int(str_.split('-')[-1].replace(' ', ''))\n",
        "      elif '>' in str_:\n",
        "        result = int(str_.split('>')[-1].replace(' ', ''))\n",
        "      else:\n",
        "        result = int(str_.replace(' ', ''))\n",
        "      return result\n",
        "\n",
        "    def internal_func_INDUSTRY(self, df):\n",
        "        ref_col = 'Вид деятельности/отрасль'\n",
        "        for i in df.index:\n",
        "            if 'озничная' in df.at[i, ref_col] and 'орговля' in df.at[i, ref_col]:\n",
        "                df.loc[i, ref_col] = 'Розничная торговля'\n",
        "            elif 'птовая' in df.at[i, ref_col] and 'орговля' in df.at[i, ref_col]:\n",
        "                df.loc[i, ref_col] = 'Оптовая торговля'\n",
        "            elif 'астениеводство' in df.at[i, ref_col] or 'ивотноводство' in df.at[i, ref_col] or 'ыращивание' in df.at[i, ref_col]:\n",
        "                df.loc[i, ref_col] = 'Сельское хозяйство'\n",
        "            elif 'роизводство' in df.at[i, ref_col]:\n",
        "                df.loc[i, ref_col] = 'Производство'\n",
        "            else:\n",
        "                df.loc[i, ref_col] = 'Иная'\n",
        "        return df\n",
        "\n",
        "    def gen_new_attr(self, df):\n",
        "      df['СОК'] = df['Капитал'] + df['ДКиЗ'] - df['ВНА'] - df['КФЛ']\n",
        "      df['Аналитический СК'] = df['Капитал'] - df['ДФЛ'] - df['КФЛ']\n",
        "      df['Аналитический СК АППГ'] = df['Капитал АППГ'] - df['ДФЛ АППГ'] - df['КФЛ АППГ']\n",
        "      df['Динамика выручки'] = df['Выручка'] / df['Выручка, АППГ']\n",
        "      df['Долг к выручке'] = df['Совокупный долг'] / df['Выручка']\n",
        "      df['Долг к выручке к АППГ'] = df['Совокупный долг, АППГ'] / df['Выручка, АППГ']\n",
        "      df['Динамика долга'] = df['Долг к выручке'] / df['Долг к выручке к АППГ']\n",
        "      df['Пол или отр СОК'] = [1 if element >= 0 else 0 for element in df['СОК']]\n",
        "      df['Капитал к долгу'] = df['Капитал'] / df['Совокупный долг']\n",
        "      df['Аналит капитал к долгу'] = df['Аналитический СК'] / df['Совокупный долг']\n",
        "      df['Капитал к ВБ'] = df['Капитал'] / df['Активы']\n",
        "      df['Аналит капитал к ВБ'] = df['Аналитический СК'] / df['Активы']\n",
        "      df['Динамика обор запасов АППГ'] = df['Обор запасы'] / df['Обор запасы АППГ']\n",
        "      df['Динамика обор ДЗ АППГ'] = df['Обор ДЗ'] / df['Обор ДЗ АППГ']\n",
        "      df['Динамика обор КЗ АППГ'] = df['Обор КЗ'] / df['Обор КЗ АППГ']\n",
        "      df['ОС к ВБ'] = df['ОС'] / df['Активы']\n",
        "      df['Динамика капитала'] = df['Капитал'] / df['Капитал АППГ']\n",
        "      df['Динамика аналит капитала'] = df['Аналитический СК'] / df['Аналитический СК АППГ']\n",
        "      return df\n",
        "\n",
        "    def rebalancing(self, X_train, y_train):\n",
        "        train = pd.DataFrame(data=X_train)\n",
        "        train['Дефолт'] = y_train\n",
        "        train_1 = train[train['Дефолт'] == 1]\n",
        "        train_0 = train[train['Дефолт'] == 0]\n",
        "        train_0 = train_0.sample(train_1.shape[0] * 2, random_state=0)\n",
        "        train_1 = pd.concat([train_1, train_1.copy()])\n",
        "        train_bal = pd.concat([train_1, train_0])\n",
        "        df = pd.DataFrame(data=train_bal)\n",
        "        y = df['Дефолт'].values\n",
        "        X = df.drop('Дефолт', axis=1)\n",
        "        return X, y\n",
        "\n",
        "    def transform(self, X):\n",
        "      #исключение лишних атрибутов\n",
        "      X.drop(self.extra_variables, axis=1, inplace=True)\n",
        "      #обработка Nan атрибута Сайт в сети интернет\n",
        "      X['Сайт в сети Интернет'] = X['Сайт в сети Интернет'].fillna(0)\n",
        "      X['Сайт'] = np.where(X['Сайт в сети Интернет']!=0, 1, 0)\n",
        "      X.drop('Сайт в сети Интернет', axis=1, inplace=True)\n",
        "      X.drop('EBIT', axis=1, inplace=True)\n",
        "      #обработка Nan атрибута Совладельцы, Приоритетный\n",
        "      X['Совладельцы, Приоритетный'] = X['Совладельцы, Приоритетный'].fillna(0)\n",
        "      X['Совладельцы'] = np.where(X['Совладельцы, Приоритетный']!=0, X['Совладельцы, Приоритетный'].str.split('\\n'), 0)\n",
        "      #новый атрибут - количество владельцев\n",
        "      X['Количество владельцев'] = np.where(X['Совладельцы']!=0, X['Совладельцы'].apply(lambda x: self.internal_func_owner(list_own=x)), 0)\n",
        "      #новый атрибут - собственник иностранец\n",
        "      X['С иностранным участием'] = np.where(X['Совладельцы']!=0, X['Совладельцы'].apply(lambda x: self.internal_func_foreigner(x)), 0)\n",
        "      X.drop(['Совладельцы', 'Совладельцы, Приоритетный'], axis=1, inplace=True)\n",
        "      #обработка Nan ССЧ\n",
        "      X['ССЧ'] = X['ССЧ'].fillna('999999')\n",
        "      X['ССЧ'] = X['ССЧ'].apply(lambda x: self.internal_func_SSH(x))\n",
        "      X.loc[X['ССЧ'] == 999999, 'ССЧ'] = X['ССЧ'].loc[(X['ССЧ'] != 999999)].median()\n",
        "      #Nan меняю на 0, исходя из экономического смысла\n",
        "      for col in self.columns_FP:\n",
        "        X[col] = X[col].fillna(0)\n",
        "      #Nan меняю на median, исходя из экономического смысла\n",
        "      for col in self.columns_Nan_Median:\n",
        "        X[col] = X[col].fillna(999999)\n",
        "        X.loc[(X[col] == 999999)|(X[col] < 0), col] = X[col].loc[(X[col] != 999999)&(X[col] > 0)].median()\n",
        "      X['Коэффициент соотношения заемных и собственных средств,'] = X['Коэффициент соотношения заемных и собственных средств,'].fillna(999999)\n",
        "      X.loc[X['Коэффициент соотношения заемных и собственных средств,'] == 999999, 'Коэффициент соотношения заемных и собственных средств,'] = X['Коэффициент соотношения заемных и собственных средств,'].loc[X['Коэффициент соотношения заемных и собственных средств,'] != 999999].median()\n",
        "      #Работа с выбросами\n",
        "      X['ССЧ'] = np.where(X['ССЧ']>X['ССЧ'].quantile(.975), X['ССЧ'].quantile(.975), X['ССЧ'])\n",
        "      X['Возраст'] = np.where(X['Возраст компании, лет']>X['Возраст компании, лет'].quantile(.975), X['Возраст компании, лет'].quantile(.975), X['Возраст компании, лет'])\n",
        "      X.drop('Возраст компании, лет', axis=1, inplace=True)\n",
        "      X = self.internal_func_INDUSTRY(X)\n",
        "      for col in self.col_only_positive:\n",
        "        X[col] = np.where(X[col]<0, 0, X[col])\n",
        "      for col in self.columns_OP:\n",
        "        X[col] = np.where(X[col]>X[col].quantile(.975), X[col].quantile(.975), X[col])\n",
        "      #Добавление показателей - финансовые коэффициенты\n",
        "      X = self.gen_new_attr(X)\n",
        "      #Обработка вновь созданных атрибутов\n",
        "      for col in self.list_dop_cols:\n",
        "        m = X[X[col].notna()][col].median()\n",
        "        X[col] = X[col].fillna(m)\n",
        "        X[col] = np.where(X[col]>X[col].quantile(.95), X[col].quantile(.95), X[col])\n",
        "        X[col] = np.where(X[col]<X[col].quantile(.01), X[col].quantile(.01), X[col])\n",
        "      #Обрабатываю номинальные переменные\n",
        "      X = pd.get_dummies(data=X, drop_first=True, columns=['Вид деятельности/отрасль'])\n",
        "      X.drop('Регион регистрации', axis=1, inplace=True)\n",
        "      return X"
      ],
      "metadata": {
        "id": "ImtEUJaeJ-_9"
      },
      "execution_count": 133,
      "outputs": []
    },
    {
      "cell_type": "code",
      "source": [
        "dataset = DataPipeline()\n",
        "X_train_transform = dataset.transform(X=X_train)\n",
        "X_train_bal, y_train_bal = dataset.rebalancing(X_train=X_train_transform, y_train=y_train)\n",
        "clf = dataset.fit(X_train=X_train_bal, y_train=y_train_bal)\n",
        "\n",
        "X_test_transform = dataset.transform(X=X_test)\n",
        "y_pred = dataset.predict(X_test = X_test_transform)\n",
        "accuracy_score(y_test, y_pred)"
      ],
      "metadata": {
        "colab": {
          "base_uri": "https://localhost:8080/"
        },
        "id": "bEwbjw2CXnmC",
        "outputId": "3d754aee-e6dd-4035-86fb-02b311c9fe25"
      },
      "execution_count": 134,
      "outputs": [
        {
          "output_type": "execute_result",
          "data": {
            "text/plain": [
              "0.840669014084507"
            ]
          },
          "metadata": {},
          "execution_count": 134
        }
      ]
    },
    {
      "cell_type": "code",
      "source": [
        "from sklearn.metrics import classification_report, roc_auc_score, roc_curve\n",
        "\n",
        "def results(y_test, y_pred, time=0):\n",
        "    report = classification_report(y_test, y_pred, target_names=['0', '1'])\n",
        "    print(report)\n",
        "    print('\\nПлощадь под ROC-кривой - ' + str(round(roc_auc_score(y_test, y_pred), 4)))"
      ],
      "metadata": {
        "id": "J1k0iFcNlp6m"
      },
      "execution_count": 135,
      "outputs": []
    },
    {
      "cell_type": "code",
      "source": [
        "results(y_test, y_pred)"
      ],
      "metadata": {
        "colab": {
          "base_uri": "https://localhost:8080/"
        },
        "id": "DpBbyMImlyIp",
        "outputId": "48b907ce-d1b8-40a0-a45c-5aa930a4302f"
      },
      "execution_count": 136,
      "outputs": [
        {
          "output_type": "stream",
          "name": "stdout",
          "text": [
            "              precision    recall  f1-score   support\n",
            "\n",
            "           0       0.98      0.84      0.91     18836\n",
            "           1       0.31      0.80      0.44      1612\n",
            "\n",
            "    accuracy                           0.84     20448\n",
            "   macro avg       0.64      0.82      0.67     20448\n",
            "weighted avg       0.93      0.84      0.87     20448\n",
            "\n",
            "\n",
            "Площадь под ROC-кривой - 0.8233\n"
          ]
        }
      ]
    },
    {
      "cell_type": "code",
      "source": [
        "r2_score(y_test, y_pred)"
      ],
      "metadata": {
        "id": "Si--1ThZk7uH",
        "colab": {
          "base_uri": "https://localhost:8080/"
        },
        "outputId": "dca6c16e-2672-45f9-ab04-b14b9a1e64ce"
      },
      "execution_count": 137,
      "outputs": [
        {
          "output_type": "execute_result",
          "data": {
            "text/plain": [
              "-1.194058471002415"
            ]
          },
          "metadata": {},
          "execution_count": 137
        }
      ]
    },
    {
      "cell_type": "markdown",
      "source": [
        "Точность модели на уровне 84% приемлемая. При этом для моделей классификации дефолтов большее значение имеет показатель recall. Ориентироваться на r2 в моделях классификации неверно\n",
        "\n",
        "Модель правильно выявила 80% дефолтов."
      ],
      "metadata": {
        "id": "ISK8zao2j1Jb"
      }
    },
    {
      "cell_type": "code",
      "source": [
        "#from sklearn.model_selection import GridSearchCV\n",
        "#import numpy as np\n",
        "\n",
        "#parameters = {\n",
        "#    'n_estimators': [150, 200, 250],\n",
        "#    'max_features': np.arange(5, 9),\n",
        "#    'max_depth': np.arange(5, 10),\n",
        "#}\n",
        "\n",
        "#clf = GridSearchCV(\n",
        "#    estimator=RandomForestClassifier(),\n",
        "#    param_grid=parameters,\n",
        "#    scoring='accuracy',\n",
        "#    cv=5,\n",
        "#)\n",
        "\n",
        "#clf.fit(X_train_bal, y_train_bal)\n",
        "#clf.best_params_\n",
        "#accuracy_score(y_valid, y_pred)"
      ],
      "metadata": {
        "id": "vEEMDd7pCs2i"
      },
      "execution_count": 138,
      "outputs": []
    }
  ]
}